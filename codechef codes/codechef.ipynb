{
 "cells": [
  {
   "cell_type": "code",
   "execution_count": null,
   "metadata": {},
   "outputs": [],
   "source": [
    "# Sunny Day\n",
    "t = int(input())\n",
    "for i in range(t):\n",
    "    x= int(input())\n",
    "    if x>24:\n",
    "        print(\"YES\")\n",
    "    else:\n",
    "        print(\"NO\")"
   ]
  },
  {
   "cell_type": "code",
   "execution_count": 5,
   "metadata": {},
   "outputs": [
    {
     "name": "stdout",
     "output_type": "stream",
     "text": [
      "NO\n",
      "YES\n"
     ]
    }
   ],
   "source": [
    "# Maximum Capacity\n",
    "t = int(input())\n",
    "for i in range(t):\n",
    "    x= int(input())\n",
    "    # if x >8:\n",
    "    #     print(\"NO\")\n",
    "    # else:\n",
    "    #     continue\n",
    "    y= int(input())\n",
    "    z=x*y\n",
    "    if z>500 or x>8:\n",
    "        print(\"NO\")\n",
    "    else:\n",
    "        print(\"YES\")\n"
   ]
  },
  {
   "cell_type": "code",
   "execution_count": 6,
   "metadata": {},
   "outputs": [
    {
     "name": "stdout",
     "output_type": "stream",
     "text": [
      "Equal\n"
     ]
    }
   ],
   "source": [
    "# messi vs ronaldo\n",
    "a,b,x,y = map(int, input().split())\n",
    "c = (2*a) + b\n",
    "z = (2*x) + y\n",
    "if c>z:\n",
    "    print(\"Messi\")\n",
    "elif z>c:\n",
    "    print(\"Ronaldo\")\n",
    "elif z==c:\n",
    "    print(\"Equal\")\n",
    "    \n"
   ]
  }
 ],
 "metadata": {
  "kernelspec": {
   "display_name": "Python 3",
   "language": "python",
   "name": "python3"
  },
  "language_info": {
   "codemirror_mode": {
    "name": "ipython",
    "version": 3
   },
   "file_extension": ".py",
   "mimetype": "text/x-python",
   "name": "python",
   "nbconvert_exporter": "python",
   "pygments_lexer": "ipython3",
   "version": "3.11.3"
  },
  "orig_nbformat": 4
 },
 "nbformat": 4,
 "nbformat_minor": 2
}
